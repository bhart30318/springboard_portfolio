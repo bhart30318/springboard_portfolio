{
 "cells": [
  {
   "cell_type": "markdown",
   "metadata": {},
   "source": [
    "This analysis is **heavily** adapted from [this tutorial](https://machinelearningmastery.com/multivariate-time-series-forecasting-lstms-keras/) on how to apply LSTMs in Python and [this blog post](http://colah.github.io/posts/2015-08-Understanding-LSTMs/) describing how RNNs and LSTMs work."
   ]
  },
  {
   "cell_type": "markdown",
   "metadata": {},
   "source": [
    "Now we will a type of recurrent neural networks (RNNs) known as long short term memory (LSTM) to predict electricity demand from weather features. Whereas traditional NNs have no baseline sense of temporality, RNNs include loops, allowing information to persist across multiple timesteps. **Figure 1** shows an unraveled RNN and demonstrates how information persists through time; by supplying the output of a previous timestep to the input of the current timestep, past information is used to predict the future.\n",
    "\n",
    "![\"An unrolled RNN\"](RNN-unrolled.png \"Unrolled RNN\")"
   ]
  },
  {
   "cell_type": "markdown",
   "metadata": {},
   "source": [
    "### Figure 1: Unraveled RNN"
   ]
  },
  {
   "cell_type": "markdown",
   "metadata": {},
   "source": [
    "One issue with RNNs are long-term dependencies: it's difficult for RNNs to recall pertinent information from timesteps far away from the current timestep. Resultingly, LSTM networks were desdigned by [Hochreiter & Schmidhuber (1997)](http://www.bioinf.jku.at/publications/older/2604.pdf) to allow for long-term dependencies. **Figure 2** shows the internal structure of an LSTM, each part of which will be discussed below.\n",
    "![\"LSTM\"](LSTM-chain.png \"LSTM diagram\")"
   ]
  },
  {
   "cell_type": "markdown",
   "metadata": {},
   "source": [
    "### Figure 2: LSTM diagram. The pink icons represent matrix transformations (addition, multiplication, tanh) while the yellow icons represent different network layers"
   ]
  },
  {
   "cell_type": "markdown",
   "metadata": {},
   "source": [
    "The main idea behind LSTMs is the cell state: the horizontal line running across the top of the LSTM cell. Crucially, the LSTM has the ability to add or remove information from the cell state through structures called gates.\n",
    "\n",
    "Data flows through the layers of an LSTM in a sequence of steps:\n",
    "1. First the forget gate layer, which looks at the previous LSTMs output and the current input and decides how much information should be removed from the cell state between timesteps.\n",
    "2. Second the input gate layer, which decides which values to update and importantly *how much* to update each value in the cell state.\n",
    "3. Third the tanh layer, which creates a vector of candidate information to be possibly added to the cell state.\n",
    "4. Fourth we combine the previous steps by first removing the information we decided to forget in step one and then adding the candidate values decided in step three scaled by how much we decided to update each state value in step two. The product here is the new cell state, which will be transfered to the subsequent LSTM.\n",
    "5. Finally we decide what to output ($h_t$ in the diagram). The output will be based on our cell state, but filtered according to which information we decided to add and remove before.\n",
    "\n",
    "This is a rudimentary overview of RNNs and LSTMs. For a more in-depth, mathematical review, check out the blog post linked at the top. Now we apply LSTMs to predict electricity demand from weather features."
   ]
  },
  {
   "cell_type": "code",
   "execution_count": 1,
   "metadata": {
    "collapsed": false
   },
   "outputs": [
    {
     "name": "stderr",
     "output_type": "stream",
     "text": [
      "Using TensorFlow backend.\n"
     ]
    }
   ],
   "source": [
    "%matplotlib inline\n",
    "\n",
    "import pandas as pd\n",
    "import numpy as np\n",
    "import matplotlib.pyplot as plt\n",
    "\n",
    "from sklearn.preprocessing import LabelEncoder\n",
    "from sklearn.preprocessing import MinMaxScaler\n",
    "from sklearn.metrics import mean_squared_error\n",
    "\n",
    "from keras.models import Sequential\n",
    "from keras.layers import Dense, LSTM"
   ]
  },
  {
   "cell_type": "code",
   "execution_count": 3,
   "metadata": {
    "collapsed": true
   },
   "outputs": [],
   "source": [
    "def series_to_supervised(data, col_names, n_in=1, n_out=1, dropnan=True):\n",
    "    \"\"\"\n",
    "    Frame a time series as a supervised learning dataset.\n",
    "    Arguments:\n",
    "        data: Sequence of observations as a list or NumPy array.\n",
    "        n_in: Number of lag observations as input (X).\n",
    "        n_out: Number of observations as output (y).\n",
    "        dropnan: Boolean whether or not to drop rows with NaN values.\n",
    "    Returns:\n",
    "        Pandas DataFrame of series framed for supervised learning.\n",
    "    \"\"\"\n",
    "    n_vars = 1 if type(data) is list else data.shape[1]\n",
    "    df = pd.DataFrame(data)\n",
    "    cols, names = list(), list()\n",
    "    # input sequence (t-n, ... t-1)\n",
    "    for i in range(n_in, 0, -1):\n",
    "        cols.append(df.shift(i))\n",
    "        names += [('%s(t-%d)' % (col_names[j], i)) for j in range(n_vars)]\n",
    "    # forecast sequence (t, t+1, ... t+n)\n",
    "    for i in range(0, n_out):\n",
    "        cols.append(df.shift(-i))\n",
    "        if i == 0:\n",
    "            names += [('%s(t)' % (col_names[j])) for j in range(n_vars)]\n",
    "        else:\n",
    "            names += [('%s(t+%d)' % (col_names[j], i)) for j in range(n_vars)]\n",
    "    # put it all together\n",
    "    agg = pd.concat(cols, axis=1)\n",
    "    agg.columns = names\n",
    "    # drop rows with NaN values\n",
    "    if dropnan:\n",
    "        agg.dropna(inplace=True)\n",
    "    return agg"
   ]
  },
  {
   "cell_type": "code",
   "execution_count": 4,
   "metadata": {
    "collapsed": true
   },
   "outputs": [],
   "source": [
    "WORKING_DIR = '/Users/rvg/Documents/springboard_ds/springboard_portfolio/Electricity_Demand/'\n",
    "\n",
    "la_df = pd.read_pickle(WORKING_DIR + 'data/LA_df.pkl')\n",
    "\n",
    "seattle_df = pd.read_pickle(WORKING_DIR + 'data/seattle_df.pkl')\n",
    "\n",
    "#the following example will be with the LA dataset only\n",
    "dataset = la_df.copy()\n",
    "\n",
    "# set the column we want to predict (demand) to the first columns for consistency with the tutorial\n",
    "cols = list(dataset.columns)\n",
    "cols.remove('demand')\n",
    "cols.insert(0,'demand')\n",
    "dataset = dataset[cols]"
   ]
  },
  {
   "cell_type": "markdown",
   "metadata": {},
   "source": [
    "## Preparing data for LSTM\n",
    "\n",
    "The first step is to prepare the dataset for the LSTM.\n",
    "\n",
    "This involves framing the dataset as a supervised learning problem and normalizing the input variables.\n",
    "\n",
    "We will frame the supervised learning problem as predicting the electricity demand at the current hour (t) given the electricity demand and weather conditions at the prior time step."
   ]
  },
  {
   "cell_type": "code",
   "execution_count": 5,
   "metadata": {
    "collapsed": false
   },
   "outputs": [
    {
     "name": "stdout",
     "output_type": "stream",
     "text": [
      "   demand(t-1)  hourlyvisibility(t-1)  hourlydewpointtempf(t-1)  \\\n",
      "1     0.237244                      1                  0.915663   \n",
      "2     0.186420                      1                  0.927711   \n",
      "3     0.155685                      1                  0.915663   \n",
      "4     0.134592                      1                  0.891566   \n",
      "5     0.135195                      1                  0.891566   \n",
      "\n",
      "   hourlyrelativehumidity(t-1)  hourlywindspeed(t-1)  \\\n",
      "1                     0.680412                   0.0   \n",
      "2                     0.628866                   0.0   \n",
      "3                     0.515464                   0.0   \n",
      "4                     0.443299                   0.2   \n",
      "5                     0.494845                   0.2   \n",
      "\n",
      "   hourlystationpressure(t-1)  hourlyprecip(t-1)  dailyheatingdegreedays(t-1)  \\\n",
      "1                    0.466019                  0                            0   \n",
      "2                    0.466019                  0                            0   \n",
      "3                    0.456310                  0                            0   \n",
      "4                    0.417475                  0                            0   \n",
      "5                    0.417475                  0                            0   \n",
      "\n",
      "   dailycoolingdegreedays(t-1)  hourlycoolingdegrees(t-1)  \\\n",
      "1                     0.416667                   0.181818   \n",
      "2                     0.416667                   0.363636   \n",
      "3                     0.416667                   0.454545   \n",
      "4                     0.416667                   0.363636   \n",
      "5                     0.416667                   0.272727   \n",
      "\n",
      "   hourlyheatingdegrees(t-1)  hourlytimeofday(t-1)  \\\n",
      "1                          0                     0   \n",
      "2                          0                     0   \n",
      "3                          0                     0   \n",
      "4                          0                     0   \n",
      "5                          0                     0   \n",
      "\n",
      "   hourlyskyconditions_BKN(t-1)  hourlyskyconditions_CLR(t-1)  \\\n",
      "1                             0                             1   \n",
      "2                             0                             0   \n",
      "3                             0                             1   \n",
      "4                             0                             1   \n",
      "5                             0                             1   \n",
      "\n",
      "   hourlyskyconditions_FEW(t-1)  hourlyskyconditions_OVC(t-1)  \\\n",
      "1                             0                             0   \n",
      "2                             1                             0   \n",
      "3                             0                             0   \n",
      "4                             0                             0   \n",
      "5                             0                             0   \n",
      "\n",
      "   hourlyskyconditions_SCT(t-1)  demand(t)  \n",
      "1                             0   0.186420  \n",
      "2                             0   0.155685  \n",
      "3                             0   0.134592  \n",
      "4                             0   0.135195  \n",
      "5                             0   0.157091  \n"
     ]
    }
   ],
   "source": [
    "values = dataset.values\n",
    "# ensure all data is float\n",
    "values = values.astype('float32')\n",
    "# normalize features\n",
    "scaler = MinMaxScaler(feature_range=(0, 1))\n",
    "scaled = scaler.fit_transform(values)\n",
    "# frame as supervised learning\n",
    "reframed = series_to_supervised(scaled, dataset.columns, 1, 1)\n",
    "# drop columns we don't want to predict\n",
    "reframed.drop(reframed.columns[[18,19,20,21,22,23,24,25,26,27,28,29,30,31,32,33]], axis=1, inplace=True)\n",
    "print(reframed.head())"
   ]
  },
  {
   "cell_type": "markdown",
   "metadata": {},
   "source": [
    "## Define and Fit Model\n",
    "\n",
    "In this section, we will fit an LSTM on the multivariate input data.\n",
    "\n",
    "First, we must split the prepared dataset into train and test sets. To speed up the training of the model for this demonstration, we will only fit the model on the first year of data, then evaluate it on the remaining data.\n",
    "\n",
    "We split the dataset into train and test sets, then splits the train and test sets into input and output variables. Finally, the inputs (X) are reshaped into the 3D format expected by LSTMs, namely [samples, timesteps, features]."
   ]
  },
  {
   "cell_type": "code",
   "execution_count": 6,
   "metadata": {
    "collapsed": false
   },
   "outputs": [
    {
     "name": "stdout",
     "output_type": "stream",
     "text": [
      "((8760, 1, 17), (8760,), (18294, 1, 17), (18294,))\n"
     ]
    }
   ],
   "source": [
    "values = reframed.values\n",
    "n_train_hours = 365 * 24\n",
    "train = values[:n_train_hours, :]\n",
    "test = values[n_train_hours:, :]\n",
    "# split into input and outputs\n",
    "train_X, train_y = train[:, :-1], train[:, -1]\n",
    "test_X, test_y = test[:, :-1], test[:, -1]\n",
    "# reshape input to be 3D [samples, timesteps, features]\n",
    "train_X = train_X.reshape((train_X.shape[0], 1, train_X.shape[1]))\n",
    "test_X = test_X.reshape((test_X.shape[0], 1, test_X.shape[1]))\n",
    "print(train_X.shape, train_y.shape, test_X.shape, test_y.shape)"
   ]
  },
  {
   "cell_type": "markdown",
   "metadata": {},
   "source": [
    "Now we can define and fit our LSTM model.\n",
    "\n",
    "We will define the LSTM with 50 neurons in the first hidden layer and 1 neuron in the output layer for predicting electricity demand. The input shape will be 1 time step with 17 features.\n",
    "\n",
    "We will use the Mean Absolute Error (MAE) loss function and the efficient Adam version of stochastic gradient descent.\n",
    "\n",
    "The model will be fit for 50 training epochs with a batch size of 72. Epochs Remember that the internal state of the LSTM in Keras is reset at the end of each batch, so an internal state that is a function of a number of days may be helpful (try testing this).\n",
    "\n",
    "Finally, we keep track of both the training and test loss during training by setting the validation_data argument in the fit() function. At the end of the run both the training and test loss are plotted."
   ]
  },
  {
   "cell_type": "code",
   "execution_count": 7,
   "metadata": {
    "collapsed": false
   },
   "outputs": [
    {
     "name": "stdout",
     "output_type": "stream",
     "text": [
      "Train on 8760 samples, validate on 18294 samples\n",
      "Epoch 1/50\n",
      " - 1s - loss: 0.0906 - val_loss: 0.0778\n",
      "Epoch 2/50\n",
      " - 0s - loss: 0.0611 - val_loss: 0.0683\n",
      "Epoch 3/50\n",
      " - 1s - loss: 0.0513 - val_loss: 0.0542\n",
      "Epoch 4/50\n",
      " - 0s - loss: 0.0407 - val_loss: 0.0412\n",
      "Epoch 5/50\n",
      " - 0s - loss: 0.0321 - val_loss: 0.0322\n",
      "Epoch 6/50\n",
      " - 0s - loss: 0.0279 - val_loss: 0.0266\n",
      "Epoch 7/50\n",
      " - 0s - loss: 0.0261 - val_loss: 0.0261\n",
      "Epoch 8/50\n",
      " - 0s - loss: 0.0251 - val_loss: 0.0276\n",
      "Epoch 9/50\n",
      " - 0s - loss: 0.0246 - val_loss: 0.0281\n",
      "Epoch 10/50\n",
      " - 0s - loss: 0.0243 - val_loss: 0.0280\n",
      "Epoch 11/50\n",
      " - 0s - loss: 0.0240 - val_loss: 0.0298\n",
      "Epoch 12/50\n",
      " - 1s - loss: 0.0239 - val_loss: 0.0308\n",
      "Epoch 13/50\n",
      " - 1s - loss: 0.0237 - val_loss: 0.0306\n",
      "Epoch 14/50\n",
      " - 1s - loss: 0.0236 - val_loss: 0.0308\n",
      "Epoch 15/50\n",
      " - 1s - loss: 0.0235 - val_loss: 0.0305\n",
      "Epoch 16/50\n",
      " - 0s - loss: 0.0233 - val_loss: 0.0300\n",
      "Epoch 17/50\n",
      " - 0s - loss: 0.0232 - val_loss: 0.0293\n",
      "Epoch 18/50\n",
      " - 0s - loss: 0.0230 - val_loss: 0.0282\n",
      "Epoch 19/50\n",
      " - 0s - loss: 0.0231 - val_loss: 0.0278\n",
      "Epoch 20/50\n",
      " - 1s - loss: 0.0229 - val_loss: 0.0294\n",
      "Epoch 21/50\n",
      " - 1s - loss: 0.0228 - val_loss: 0.0292\n",
      "Epoch 22/50\n",
      " - 1s - loss: 0.0228 - val_loss: 0.0279\n",
      "Epoch 23/50\n",
      " - 1s - loss: 0.0227 - val_loss: 0.0276\n",
      "Epoch 24/50\n",
      " - 1s - loss: 0.0226 - val_loss: 0.0284\n",
      "Epoch 25/50\n",
      " - 1s - loss: 0.0226 - val_loss: 0.0279\n",
      "Epoch 26/50\n",
      " - 1s - loss: 0.0226 - val_loss: 0.0273\n",
      "Epoch 27/50\n",
      " - 1s - loss: 0.0225 - val_loss: 0.0275\n",
      "Epoch 28/50\n",
      " - 1s - loss: 0.0225 - val_loss: 0.0270\n",
      "Epoch 29/50\n",
      " - 1s - loss: 0.0224 - val_loss: 0.0274\n",
      "Epoch 30/50\n",
      " - 1s - loss: 0.0223 - val_loss: 0.0275\n",
      "Epoch 31/50\n",
      " - 1s - loss: 0.0224 - val_loss: 0.0269\n",
      "Epoch 32/50\n",
      " - 1s - loss: 0.0224 - val_loss: 0.0265\n",
      "Epoch 33/50\n",
      " - 1s - loss: 0.0223 - val_loss: 0.0265\n",
      "Epoch 34/50\n",
      " - 1s - loss: 0.0223 - val_loss: 0.0265\n",
      "Epoch 35/50\n",
      " - 0s - loss: 0.0223 - val_loss: 0.0262\n",
      "Epoch 36/50\n",
      " - 0s - loss: 0.0222 - val_loss: 0.0265\n",
      "Epoch 37/50\n",
      " - 1s - loss: 0.0223 - val_loss: 0.0261\n",
      "Epoch 38/50\n",
      " - 0s - loss: 0.0222 - val_loss: 0.0262\n",
      "Epoch 39/50\n",
      " - 0s - loss: 0.0222 - val_loss: 0.0255\n",
      "Epoch 40/50\n",
      " - 0s - loss: 0.0221 - val_loss: 0.0255\n",
      "Epoch 41/50\n",
      " - 1s - loss: 0.0221 - val_loss: 0.0262\n",
      "Epoch 42/50\n",
      " - 0s - loss: 0.0222 - val_loss: 0.0252\n",
      "Epoch 43/50\n",
      " - 1s - loss: 0.0221 - val_loss: 0.0256\n",
      "Epoch 44/50\n",
      " - 0s - loss: 0.0220 - val_loss: 0.0264\n",
      "Epoch 45/50\n",
      " - 1s - loss: 0.0221 - val_loss: 0.0256\n",
      "Epoch 46/50\n",
      " - 1s - loss: 0.0221 - val_loss: 0.0253\n",
      "Epoch 47/50\n",
      " - 1s - loss: 0.0221 - val_loss: 0.0256\n",
      "Epoch 48/50\n",
      " - 1s - loss: 0.0221 - val_loss: 0.0253\n",
      "Epoch 49/50\n",
      " - 0s - loss: 0.0220 - val_loss: 0.0246\n",
      "Epoch 50/50\n",
      " - 1s - loss: 0.0220 - val_loss: 0.0256\n"
     ]
    },
    {
     "data": {
      "text/plain": [
       "<matplotlib.legend.Legend at 0x1235c9a10>"
      ]
     },
     "execution_count": 7,
     "metadata": {},
     "output_type": "execute_result"
    },
    {
     "data": {
      "image/png": "[encoded data removed]",
      "text/plain": [
       "<matplotlib.figure.Figure at 0x11f6a2ad0>"
      ]
     },
     "metadata": {},
     "output_type": "display_data"
    }
   ],
   "source": [
    "# design network\n",
    "model = Sequential()\n",
    "model.add(LSTM(50, input_shape=(train_X.shape[1], train_X.shape[2])))\n",
    "model.add(Dense(1))\n",
    "model.compile(loss='mae', optimizer='adam')\n",
    "# fit network\n",
    "history = model.fit(train_X, train_y, epochs=50, batch_size=72, validation_data=(test_X, test_y), verbose=2, shuffle=False)\n",
    "# plot history\n",
    "plt.plot(history.history['loss'], label='train')\n",
    "plt.plot(history.history['val_loss'], label='test')\n",
    "plt.xlabel('Epoch')\n",
    "plt.ylabel('Loss (MAE)')\n",
    "plt.legend()"
   ]
  },
  {
   "cell_type": "markdown",
   "metadata": {},
   "source": [
    "## Evaluate Model\n",
    "\n",
    "After the model is fit, we can forecast for the entire test dataset.\n",
    "\n",
    "We combine the forecast with the test dataset and invert the scaling. We also invert scaling on the test dataset with the expected pollution numbers.\n",
    "\n",
    "With forecasts and actual values in their original scale, we can then calculate an error score for the model. In this case, we calculate the Root Mean Squared Error (RMSE) that gives error in the same units as the variable itself."
   ]
  },
  {
   "cell_type": "code",
   "execution_count": 8,
   "metadata": {
    "collapsed": false
   },
   "outputs": [
    {
     "name": "stdout",
     "output_type": "stream",
     "text": [
      "Test RMSE: 164.781\n"
     ]
    }
   ],
   "source": [
    "# make a prediction\n",
    "yhat = model.predict(test_X)\n",
    "test_X = test_X.reshape((test_X.shape[0], test_X.shape[2]))\n",
    "# invert scaling for forecast\n",
    "inv_yhat = np.concatenate((yhat, test_X[:, 1:]), axis=1)\n",
    "inv_yhat = scaler.inverse_transform(inv_yhat)\n",
    "inv_yhat = inv_yhat[:,0]\n",
    "# invert scaling for actual\n",
    "test_y = test_y.reshape((len(test_y), 1))\n",
    "inv_y = np.concatenate((test_y, test_X[:, 1:]), axis=1)\n",
    "inv_y = scaler.inverse_transform(inv_y)\n",
    "inv_y = inv_y[:,0]\n",
    "# calculate RMSE\n",
    "rmse = np.sqrt(mean_squared_error(inv_y, inv_yhat))\n",
    "print('Test RMSE: %.3f' % rmse)"
   ]
  },
  {
   "cell_type": "markdown",
   "metadata": {},
   "source": [
    "The RMSE on the test set is quite remarkable--it's almost half the RMSE of our best supervised learning algorithm! (Bagging, ~300)"
   ]
  }
 ],
 "metadata": {
  "kernelspec": {
   "display_name": "Python 2",
   "language": "python",
   "name": "python2"
  },
  "language_info": {
   "codemirror_mode": {
    "name": "ipython",
    "version": 2
   },
   "file_extension": ".py",
   "mimetype": "text/x-python",
   "name": "python",
   "nbconvert_exporter": "python",
   "pygments_lexer": "ipython2",
   "version": "2.7.11"
  }
 },
 "nbformat": 4,
 "nbformat_minor": 0
}
