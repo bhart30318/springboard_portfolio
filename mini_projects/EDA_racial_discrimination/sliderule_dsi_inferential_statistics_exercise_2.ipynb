{
 "cells": [
  {
   "cell_type": "markdown",
   "metadata": {},
   "source": [
    "# Examining Racial Discrimination in the US Job Market\n",
    "\n",
    "### Background\n",
    "Racial discrimination continues to be pervasive in cultures throughout the world. Researchers examined the level of racial discrimination in the United States labor market by randomly assigning identical résumés to black-sounding or white-sounding names and observing the impact on requests for interviews from employers.\n",
    "\n",
    "### Data\n",
    "In the dataset provided, each row represents a resume. The 'race' column has two values, 'b' and 'w', indicating black-sounding and white-sounding. The column 'call' has two values, 1 and 0, indicating whether the resume received a call from employers or not.\n",
    "\n",
    "Note that the 'b' and 'w' values in race are assigned randomly to the resumes when presented to the employer."
   ]
  },
  {
   "cell_type": "markdown",
   "metadata": {},
   "source": [
    "### Exercises\n",
    "You will perform a statistical analysis to establish whether race has a significant impact on the rate of callbacks for resumes.\n",
    "\n",
    "Answer the following questions **in this notebook below and submit to your Github account**. \n",
    "\n",
    "   1. What test is appropriate for this problem? Does CLT apply?\n",
    "   2. What are the null and alternate hypotheses?\n",
    "   3. Compute margin of error, confidence interval, and p-value. Try using both the bootstrapping and the frequentist statistical approaches.\n",
    "   4. Write a story describing the statistical significance in the context or the original problem.\n",
    "   5. Does your analysis mean that race/name is the most important factor in callback success? Why or why not? If not, how would you amend your analysis?\n",
    "\n",
    "You can include written notes in notebook cells using Markdown: \n",
    "   - In the control panel at the top, choose Cell > Cell Type > Markdown\n",
    "   - Markdown syntax: http://nestacms.com/docs/creating-content/markdown-cheat-sheet\n",
    "\n",
    "#### Resources\n",
    "+ Experiment information and data source: http://www.povertyactionlab.org/evaluation/discrimination-job-market-united-states\n",
    "+ Scipy statistical methods: http://docs.scipy.org/doc/scipy/reference/stats.html \n",
    "+ Markdown syntax: http://nestacms.com/docs/creating-content/markdown-cheat-sheet\n",
    "+ Formulas for the Bernoulli distribution: https://en.wikipedia.org/wiki/Bernoulli_distribution"
   ]
  },
  {
   "cell_type": "code",
   "execution_count": 1,
   "metadata": {
    "collapsed": true
   },
   "outputs": [],
   "source": [
    "import pandas as pd\n",
    "import numpy as np\n",
    "from scipy import stats"
   ]
  },
  {
   "cell_type": "code",
   "execution_count": 2,
   "metadata": {
    "collapsed": true
   },
   "outputs": [],
   "source": [
    "data = pd.io.stata.read_stata('data/us_job_market_discrimination.dta')"
   ]
  },
  {
   "cell_type": "code",
   "execution_count": 3,
   "metadata": {
    "collapsed": false
   },
   "outputs": [
    {
     "data": {
      "text/plain": [
       "235.0"
      ]
     },
     "execution_count": 3,
     "metadata": {},
     "output_type": "execute_result"
    }
   ],
   "source": [
    "# number of callbacks for black-sounding names\n",
    "sum(data[data.race=='w'].call)"
   ]
  },
  {
   "cell_type": "code",
   "execution_count": 6,
   "metadata": {
    "collapsed": false
   },
   "outputs": [
    {
     "data": {
      "text/html": [
       "<div>\n",
       "<table border=\"1\" class=\"dataframe\">\n",
       "  <thead>\n",
       "    <tr style=\"text-align: right;\">\n",
       "      <th></th>\n",
       "      <th>id</th>\n",
       "      <th>ad</th>\n",
       "      <th>education</th>\n",
       "      <th>ofjobs</th>\n",
       "      <th>yearsexp</th>\n",
       "      <th>honors</th>\n",
       "      <th>volunteer</th>\n",
       "      <th>military</th>\n",
       "      <th>empholes</th>\n",
       "      <th>occupspecific</th>\n",
       "      <th>...</th>\n",
       "      <th>compreq</th>\n",
       "      <th>orgreq</th>\n",
       "      <th>manuf</th>\n",
       "      <th>transcom</th>\n",
       "      <th>bankreal</th>\n",
       "      <th>trade</th>\n",
       "      <th>busservice</th>\n",
       "      <th>othservice</th>\n",
       "      <th>missind</th>\n",
       "      <th>ownership</th>\n",
       "    </tr>\n",
       "  </thead>\n",
       "  <tbody>\n",
       "    <tr>\n",
       "      <th>0</th>\n",
       "      <td>b</td>\n",
       "      <td>1</td>\n",
       "      <td>4</td>\n",
       "      <td>2</td>\n",
       "      <td>6</td>\n",
       "      <td>0</td>\n",
       "      <td>0</td>\n",
       "      <td>0</td>\n",
       "      <td>1</td>\n",
       "      <td>17</td>\n",
       "      <td>...</td>\n",
       "      <td>1</td>\n",
       "      <td>0</td>\n",
       "      <td>1</td>\n",
       "      <td>0</td>\n",
       "      <td>0</td>\n",
       "      <td>0</td>\n",
       "      <td>0</td>\n",
       "      <td>0</td>\n",
       "      <td>0</td>\n",
       "      <td></td>\n",
       "    </tr>\n",
       "    <tr>\n",
       "      <th>1</th>\n",
       "      <td>b</td>\n",
       "      <td>1</td>\n",
       "      <td>3</td>\n",
       "      <td>3</td>\n",
       "      <td>6</td>\n",
       "      <td>0</td>\n",
       "      <td>1</td>\n",
       "      <td>1</td>\n",
       "      <td>0</td>\n",
       "      <td>316</td>\n",
       "      <td>...</td>\n",
       "      <td>1</td>\n",
       "      <td>0</td>\n",
       "      <td>1</td>\n",
       "      <td>0</td>\n",
       "      <td>0</td>\n",
       "      <td>0</td>\n",
       "      <td>0</td>\n",
       "      <td>0</td>\n",
       "      <td>0</td>\n",
       "      <td></td>\n",
       "    </tr>\n",
       "    <tr>\n",
       "      <th>2</th>\n",
       "      <td>b</td>\n",
       "      <td>1</td>\n",
       "      <td>4</td>\n",
       "      <td>1</td>\n",
       "      <td>6</td>\n",
       "      <td>0</td>\n",
       "      <td>0</td>\n",
       "      <td>0</td>\n",
       "      <td>0</td>\n",
       "      <td>19</td>\n",
       "      <td>...</td>\n",
       "      <td>1</td>\n",
       "      <td>0</td>\n",
       "      <td>1</td>\n",
       "      <td>0</td>\n",
       "      <td>0</td>\n",
       "      <td>0</td>\n",
       "      <td>0</td>\n",
       "      <td>0</td>\n",
       "      <td>0</td>\n",
       "      <td></td>\n",
       "    </tr>\n",
       "    <tr>\n",
       "      <th>3</th>\n",
       "      <td>b</td>\n",
       "      <td>1</td>\n",
       "      <td>3</td>\n",
       "      <td>4</td>\n",
       "      <td>6</td>\n",
       "      <td>0</td>\n",
       "      <td>1</td>\n",
       "      <td>0</td>\n",
       "      <td>1</td>\n",
       "      <td>313</td>\n",
       "      <td>...</td>\n",
       "      <td>1</td>\n",
       "      <td>0</td>\n",
       "      <td>1</td>\n",
       "      <td>0</td>\n",
       "      <td>0</td>\n",
       "      <td>0</td>\n",
       "      <td>0</td>\n",
       "      <td>0</td>\n",
       "      <td>0</td>\n",
       "      <td></td>\n",
       "    </tr>\n",
       "    <tr>\n",
       "      <th>4</th>\n",
       "      <td>b</td>\n",
       "      <td>1</td>\n",
       "      <td>3</td>\n",
       "      <td>3</td>\n",
       "      <td>22</td>\n",
       "      <td>0</td>\n",
       "      <td>0</td>\n",
       "      <td>0</td>\n",
       "      <td>0</td>\n",
       "      <td>313</td>\n",
       "      <td>...</td>\n",
       "      <td>1</td>\n",
       "      <td>1</td>\n",
       "      <td>0</td>\n",
       "      <td>0</td>\n",
       "      <td>0</td>\n",
       "      <td>0</td>\n",
       "      <td>0</td>\n",
       "      <td>1</td>\n",
       "      <td>0</td>\n",
       "      <td>Nonprofit</td>\n",
       "    </tr>\n",
       "  </tbody>\n",
       "</table>\n",
       "<p>5 rows × 65 columns</p>\n",
       "</div>"
      ],
      "text/plain": [
       "  id ad  education  ofjobs  yearsexp  honors  volunteer  military  empholes  \\\n",
       "0  b  1          4       2         6       0          0         0         1   \n",
       "1  b  1          3       3         6       0          1         1         0   \n",
       "2  b  1          4       1         6       0          0         0         0   \n",
       "3  b  1          3       4         6       0          1         0         1   \n",
       "4  b  1          3       3        22       0          0         0         0   \n",
       "\n",
       "   occupspecific    ...      compreq  orgreq  manuf  transcom  bankreal trade  \\\n",
       "0             17    ...            1       0      1         0         0     0   \n",
       "1            316    ...            1       0      1         0         0     0   \n",
       "2             19    ...            1       0      1         0         0     0   \n",
       "3            313    ...            1       0      1         0         0     0   \n",
       "4            313    ...            1       1      0         0         0     0   \n",
       "\n",
       "  busservice othservice  missind  ownership  \n",
       "0          0          0        0             \n",
       "1          0          0        0             \n",
       "2          0          0        0             \n",
       "3          0          0        0             \n",
       "4          0          1        0  Nonprofit  \n",
       "\n",
       "[5 rows x 65 columns]"
      ]
     },
     "execution_count": 6,
     "metadata": {},
     "output_type": "execute_result"
    }
   ],
   "source": [
    "data.head()\n"
   ]
  },
  {
   "cell_type": "markdown",
   "metadata": {
    "collapsed": true
   },
   "source": [
    "<div class=\"span5 alert alert-success\">\n",
    "<p>Your answers to Q1 and Q2 here</p>\n",
    "</div>"
   ]
  },
  {
   "cell_type": "markdown",
   "metadata": {},
   "source": [
    "#### Q1: Since we are comparing the mean number of calls between two samples, we will use a two sample test to examine whether the mean number of callbacks differs between white-sounding and black-sounding names."
   ]
  },
  {
   "cell_type": "code",
   "execution_count": 7,
   "metadata": {
    "collapsed": false
   },
   "outputs": [
    {
     "name": "stdout",
     "output_type": "stream",
     "text": [
      "2435 2435\n"
     ]
    }
   ],
   "source": [
    "w = data[data.race=='w']\n",
    "b = data[data.race=='b']\n",
    "print len(w), len(b)"
   ]
  },
  {
   "cell_type": "markdown",
   "metadata": {},
   "source": [
    "#### Our sample sizes are >30, BUT we don't know our population standard deviation, so a t-test is the more appropriate procedure.\n",
    "\n",
    "#### Additionally, since our sample sizes are >30, we know our sample size is sufficiently large for the CLT to apply."
   ]
  },
  {
   "cell_type": "markdown",
   "metadata": {},
   "source": [
    "#### Q2: Our null hypothesis is that there is no difference between the mean number of callbacks between white-sounding and black-sounding names, and our alternative hypothesis is that there is a difference."
   ]
  },
  {
   "cell_type": "code",
   "execution_count": 8,
   "metadata": {
    "collapsed": false
   },
   "outputs": [
    {
     "name": "stdout",
     "output_type": "stream",
     "text": [
      "p-value = 0.00000\n",
      "95 percent confidence interval between -0.015 and 0.015\n",
      "Margin of error: 0.000048\n"
     ]
    }
   ],
   "source": [
    "# Your solution to Q3 here\n",
    "\n",
    "### First let's use bootstrapping ###\n",
    "\n",
    "''' The procedure will be to shift both the white-sounding and black-sounding samples to the same mean, simulate computing the mean many from those shifted samples many times, finding the difference in the means of those shifted samples, then seeing what fraction of those simulated mean differences are as extreme or more than the difference that is actually observed\n",
    "'''\n",
    "np.random.seed(42)\n",
    "# set up function for bootstrapping\n",
    "def bs_test(data, func, size=1):\n",
    "    bs_reps = np.empty(size)\n",
    "    for i in range(size):\n",
    "        bs_sample = np.random.choice(data, size=len(data))\n",
    "        bs_rep = func(bs_sample)\n",
    "        bs_reps[i] = bs_rep\n",
    "    return bs_reps\n",
    "\n",
    "w_call = w['call']\n",
    "b_call = b['call']\n",
    "\n",
    "# find mean that we will shift both white-sounding and black-sounding samples to\n",
    "mean_shift = np.mean(data['call'])\n",
    "\n",
    "# shift both means to the same value (i.e., setting up the null hypothesis assumption)\n",
    "w_shifted = w_call - np.mean(w_call) + mean_shift\n",
    "b_shifted = b_call - np.mean(b_call) + mean_shift\n",
    "\n",
    "# now let's simulate computing the mean for both of these mean-shifted samples 100,000 times\n",
    "bs_rep_w = bs_test(w_shifted, np.mean, 100000)\n",
    "bs_rep_b = bs_test(b_shifted, np.mean, 100000)\n",
    "\n",
    "# calculate the difference in the bootstrap replicant mean\n",
    "bs_difference = bs_rep_w - bs_rep_b\n",
    "\n",
    "# compute the actual observed difference\n",
    "obs_difference = np.mean(w_call) - np.mean(b_call)\n",
    "\n",
    "# let's see the fraction times our simulated mean differences are as extreme as the actual difference--i.e., let's compute the p-value\n",
    "p_val = np.sum(bs_difference >= obs_difference) / float(len(bs_difference))\n",
    "print 'p-value = %.5f' % p_val\n",
    "# compute the 95% confidence interval and margin of error\n",
    "ci = np.percentile(bs_difference, [2.5, 97.5])\n",
    "print '95 percent confidence interval between %.3f and %.3f' % (ci[0], ci[1])\n",
    "margin = 1.96 * (np.std(bs_difference) / np.sqrt(len(bs_difference)))\n",
    "print 'Margin of error: %.6f' % (margin)"
   ]
  },
  {
   "cell_type": "markdown",
   "metadata": {},
   "source": [
    "#### As shown, the p-value from 100,000 simulations is 0, indicating a very small p-value, and that the null hypothesis should be rejected.\n",
    "\n",
    "#### Now we repeat the procedure using the frequentist approach"
   ]
  },
  {
   "cell_type": "code",
   "execution_count": 19,
   "metadata": {
    "collapsed": false
   },
   "outputs": [
    {
     "name": "stdout",
     "output_type": "stream",
     "text": [
      "t-statistic: 4.115 with p-value of: 0.000039\n",
      "\n",
      "\n",
      "---WHITE SOUNDING---\n",
      "95 percent confidence interval between 0.000 and 1.000\n",
      "Margin of error: 0.011729\n",
      "\n",
      "\n",
      "---BLACK SOUNDING---\n",
      "95 percent confidence interval between 0.000 and 1.000\n",
      "Margin of error: 0.009755\n"
     ]
    }
   ],
   "source": [
    "### Now let's use the frequentist approach ###\n",
    "w_call = w['call']\n",
    "b_call = b['call']\n",
    "\n",
    "t, p = stats.ttest_ind(w_call, b_call, equal_var=False)\n",
    "print 't-statistic: %.3f with p-value of: %.6f' % (t, p)\n",
    "print '\\n'\n",
    "\n",
    "print '---WHITE SOUNDING---'\n",
    "ci_w = np.percentile(w_call, [2.5, 97.5])\n",
    "print '95 percent confidence interval between %.3f and %.3f' % (ci_w[0], ci_w[1])\n",
    "margin_w = 1.96 * (np.std(w_call) / np.sqrt(len(w_call)))\n",
    "print 'Margin of error: %.6f' % (margin_w)\n",
    "print '\\n'\n",
    "\n",
    "print '---BLACK SOUNDING---'\n",
    "ci_b = np.percentile(b_call, [2.5, 97.5])\n",
    "print '95 percent confidence interval between %.3f and %.3f' % (ci_b[0], ci_b[1])\n",
    "margin_b = 1.96 * (np.std(b_call) / np.sqrt(len(b_call)))\n",
    "print 'Margin of error: %.6f' % (margin_b)"
   ]
  },
  {
   "cell_type": "markdown",
   "metadata": {},
   "source": [
    "<div class=\"span5 alert alert-success\">\n",
    "<p> Your answers to Q4 and Q5 here </p>\n",
    "</div>"
   ]
  },
  {
   "cell_type": "markdown",
   "metadata": {
    "collapsed": true
   },
   "source": [
    "#### Q4: In both the boostrapping and frequentist analysis, we see strong evidence that we should reject our null hypothesis: that there is no difference between the mean number of callbacks between white-sounding and black-sounding names. With the bootstrapping analysis, after 100,000 simulations, none of simulated mean differences had a value as extreme as was observed, and with the frequentist analysis, we found a very small p-value of ~4x10^-5, both indicating that the null hypothesis is extremely unlikely and should be rejected."
   ]
  },
  {
   "cell_type": "markdown",
   "metadata": {},
   "source": [
    "#### Q5: This analysis does not imply that race is THE MOST important factor in callback success--rather that race, or at least white-sounding vs black-sounding names, is one significant factor in callback success, and that the results show that it is very unlikely that there is no difference between the mean number of callbacks between white-sounding and black-sounding names. For one, we have yet to examine all the other factors that could contribute to callback success and assess their significance, so we don't know whether it's THE MOST important. One could potentially amend their analysis by sending resumes with the same names but different background to assess the significance of that factor. On the other hand, perhaps there are geographic factors based on where resumes are sent that could skew results. Either way, this analysis shows race is a significant factor, but as for THE MOST important, more tests could be done."
   ]
  }
 ],
 "metadata": {
  "kernelspec": {
   "display_name": "Python 2",
   "language": "python",
   "name": "python2"
  },
  "language_info": {
   "codemirror_mode": {
    "name": "ipython",
    "version": 2
   },
   "file_extension": ".py",
   "mimetype": "text/x-python",
   "name": "python",
   "nbconvert_exporter": "python",
   "pygments_lexer": "ipython2",
   "version": "2.7.11"
  }
 },
 "nbformat": 4,
 "nbformat_minor": 1
}
