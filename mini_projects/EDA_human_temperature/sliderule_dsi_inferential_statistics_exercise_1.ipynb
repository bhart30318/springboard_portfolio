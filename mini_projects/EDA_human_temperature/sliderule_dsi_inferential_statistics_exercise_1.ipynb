{
 "cells": [
  {
   "cell_type": "markdown",
   "metadata": {},
   "source": [
    "# What is the True Normal Human Body Temperature? \n",
    "\n",
    "#### Background\n",
    "\n",
    "The mean normal body temperature was held to be 37$^{\\circ}$C or 98.6$^{\\circ}$F for more than 120 years since it was first conceptualized and reported by Carl Wunderlich in a famous 1868 book. But, is this value statistically correct?"
   ]
  },
  {
   "cell_type": "markdown",
   "metadata": {},
   "source": [
    "<h3>Exercises</h3>\n",
    "\n",
    "<p>In this exercise, you will analyze a dataset of human body temperatures and employ the concepts of hypothesis testing, confidence intervals, and statistical significance.</p>\n",
    "\n",
    "<p>Answer the following questions <b>in this notebook below and submit to your Github account</b>.</p> \n",
    "\n",
    "<ol>\n",
    "<li>  Is the distribution of body temperatures normal? \n",
    "    <ul>\n",
    "    <li> Although this is not a requirement for the Central Limit Theorem to hold (read the introduction on Wikipedia's page about the CLT carefully: https://en.wikipedia.org/wiki/Central_limit_theorem), it gives us some peace of mind that the population may also be normally distributed if we assume that this sample is representative of the population.\n",
    "    <li> Think about the way you're going to check for the normality of the distribution. Graphical methods are usually used first, but there are also other ways: https://en.wikipedia.org/wiki/Normality_test\n",
    "    </ul>\n",
    "<li>  Is the sample size large? Are the observations independent?\n",
    "    <ul>\n",
    "    <li> Remember that this is a condition for the Central Limit Theorem, and hence the statistical tests we are using, to apply.\n",
    "    </ul>\n",
    "<li>  Is the true population mean really 98.6 degrees F?\n",
    "    <ul>\n",
    "    <li> First, try a bootstrap hypothesis test.\n",
    "    <li> Now, let's try frequentist statistical testing. Would you use a one-sample or two-sample test? Why?\n",
    "    <li> In this situation, is it appropriate to use the $t$ or $z$ statistic? \n",
    "    <li> Now try using the other test. How is the result be different? Why?\n",
    "    </ul>\n",
    "<li>  Draw a small sample of size 10 from the data and repeat both frequentist tests. \n",
    "    <ul>\n",
    "    <li> Which one is the correct one to use? \n",
    "    <li> What do you notice? What does this tell you about the difference in application of the $t$ and $z$ statistic?\n",
    "    </ul>\n",
    "<li>  At what temperature should we consider someone's temperature to be \"abnormal\"?\n",
    "    <ul>\n",
    "    <li> As in the previous example, try calculating everything using the boostrap approach, as well as the frequentist approach.\n",
    "    <li> Start by computing the margin of error and confidence interval. When calculating the confidence interval, keep in mind that you should use the appropriate formula for one draw, and not N draws.\n",
    "    </ul>\n",
    "<li>  Is there a significant difference between males and females in normal temperature?\n",
    "    <ul>\n",
    "    <li> What testing approach did you use and why?\n",
    "    <li> Write a story with your conclusion in the context of the original problem.\n",
    "    </ul>\n",
    "</ol>\n",
    "\n",
    "You can include written notes in notebook cells using Markdown: \n",
    "   - In the control panel at the top, choose Cell > Cell Type > Markdown\n",
    "   - Markdown syntax: http://nestacms.com/docs/creating-content/markdown-cheat-sheet\n",
    "\n",
    "#### Resources\n",
    "\n",
    "+ Information and data sources: http://www.amstat.org/publications/jse/datasets/normtemp.txt, http://www.amstat.org/publications/jse/jse_data_archive.htm\n",
    "+ Markdown syntax: http://nestacms.com/docs/creating-content/markdown-cheat-sheet\n",
    "\n",
    "****"
   ]
  },
  {
   "cell_type": "code",
   "execution_count": 3,
   "metadata": {
    "collapsed": true
   },
   "outputs": [],
   "source": [
    "import pandas as pd\n",
    "\n",
    "df = pd.read_csv('data/human_body_temperature.csv')"
   ]
  },
  {
   "cell_type": "markdown",
   "metadata": {},
   "source": [
    "# Question 1"
   ]
  },
  {
   "cell_type": "code",
   "execution_count": 4,
   "metadata": {
    "collapsed": false
   },
   "outputs": [
    {
     "name": "stderr",
     "output_type": "stream",
     "text": [
      "/Users/rvg/miniconda2/envs/tutorial/lib/python2.7/site-packages/matplotlib/__init__.py:872: UserWarning: axes.color_cycle is deprecated and replaced with axes.prop_cycle; please use the latter.\n",
      "  warnings.warn(self.msg_depr % (key, alt_key))\n"
     ]
    },
    {
     "data": {
      "image/png": "[encoded data removed]",
      "text/plain": [
       "<matplotlib.figure.Figure at 0x10c402f50>"
      ]
     },
     "metadata": {},
     "output_type": "display_data"
    }
   ],
   "source": [
    "%matplotlib inline\n",
    "import seaborn as sns\n",
    "import matplotlib.pyplot as plt\n",
    "import numpy as np\n",
    "\n",
    "temp = df['temperature']\n",
    "plt.hist(temp, normed=True)\n",
    "plt.xlabel('Body Temperature [Degrees F]')\n",
    "plt.ylabel('Fraction')\n",
    "normal_points = np.random.normal(np.mean(temp), np.std(temp), 5000000)\n",
    "plt.hist(normal_points, normed=True, histtype='step', bins=100, linewidth=2)\n",
    "plt.show()"
   ]
  },
  {
   "cell_type": "markdown",
   "metadata": {},
   "source": [
    "#### Compared to a perfect normal distribution, body temperature seems to have a bit of a negative skew and a few high-value outliers. Let's compute the skew and see if it matches our prediction"
   ]
  },
  {
   "cell_type": "code",
   "execution_count": 5,
   "metadata": {
    "collapsed": false
   },
   "outputs": [
    {
     "name": "stdout",
     "output_type": "stream",
     "text": [
      "-0.00436797687908\n"
     ]
    }
   ],
   "source": [
    "from scipy.stats import kurtosis, skew\n",
    "print(skew(temp))"
   ]
  },
  {
   "cell_type": "markdown",
   "metadata": {},
   "source": [
    "#### Skew is negative, but only slightly less than zero, indicating a small shift away from normality. Let's create a normal probability plot so that we can visualize deviations from normality more easily."
   ]
  },
  {
   "cell_type": "code",
   "execution_count": 6,
   "metadata": {
    "collapsed": false
   },
   "outputs": [
    {
     "data": {
      "image/png": "[encoded data removed]",
      "text/plain": [
       "<matplotlib.figure.Figure at 0x10c402190>"
      ]
     },
     "metadata": {},
     "output_type": "display_data"
    }
   ],
   "source": [
    "from scipy import stats\n",
    "plt.cla()\n",
    "res = stats.probplot(temp, plot=plt)\n",
    "plt.show()"
   ]
  },
  {
   "cell_type": "markdown",
   "metadata": {},
   "source": [
    "#### As shown, there are some outliers and the higher quantile levels, but overall body temperature is relatively consistent wiht the normal distribution"
   ]
  },
  {
   "cell_type": "markdown",
   "metadata": {},
   "source": [
    "# Question 2"
   ]
  },
  {
   "cell_type": "code",
   "execution_count": 7,
   "metadata": {
    "collapsed": false
   },
   "outputs": [
    {
     "name": "stdout",
     "output_type": "stream",
     "text": [
      "Sample Size: 130\n"
     ]
    }
   ],
   "source": [
    "print 'Sample Size: %d'%len(temp)"
   ]
  },
  {
   "cell_type": "markdown",
   "metadata": {},
   "source": [
    "#### Since the sample size is >30, we know that this can be classified as large. And since the sample size is 130 which is much less than 10% of the population size, we can say that the observations are independent"
   ]
  },
  {
   "cell_type": "markdown",
   "metadata": {},
   "source": [
    "# Question 3"
   ]
  },
  {
   "cell_type": "code",
   "execution_count": 8,
   "metadata": {
    "collapsed": false
   },
   "outputs": [
    {
     "data": {
      "text/plain": [
       "0.0"
      ]
     },
     "execution_count": 8,
     "metadata": {},
     "output_type": "execute_result"
    }
   ],
   "source": [
    "# First we perform a bootstrap hypothesis test\n",
    "np.random.seed(42)\n",
    "def bs_test(data, func, size=1):\n",
    "    bs_reps = np.empty(size)\n",
    "    for i in range(size):\n",
    "        bs_sample = np.random.choice(data, size=len(data))\n",
    "        bs_rep = func(bs_sample)\n",
    "        bs_reps[i] = bs_rep\n",
    "    return bs_reps\n",
    "bs_data = bs_test(temp, np.mean, 100000)\n",
    "np.sum(bs_data >= 98.6) / float(len(bs_data))"
   ]
  },
  {
   "cell_type": "markdown",
   "metadata": {},
   "source": [
    "#### From our simple bootstrap test, we can see that the likelihood of getting a value of 98.6 degrees Fahrenheit or more extreme from our data set is extremely low--not even one out of 100,000 simulations produced a mean that extreme or more"
   ]
  },
  {
   "cell_type": "markdown",
   "metadata": {},
   "source": [
    "#### Now let's try using the frequentist approach. We will use a one-sample test since we are interested in testing whether our population mean is different than a constant value, i.e., 98.6, not in comparing two different population means.\n",
    "\n",
    "#### Our sample size is >30 BUT we don't know our population standard deviation, so a t-test is more appropriate than a z-test for this particular problem. However, the data is normally distributed, so we can use a z-score"
   ]
  },
  {
   "cell_type": "code",
   "execution_count": 45,
   "metadata": {
    "collapsed": false
   },
   "outputs": [
    {
     "name": "stdout",
     "output_type": "stream",
     "text": [
      "4.9021570141012155e-08\n",
      "z-statistic: -5.4548 with p-value: 0.000000049\n"
     ]
    }
   ],
   "source": [
    "# Let's compute the z statistic and an associated p-value assuming the null hypothesis: that the mean normal body temperature is 98.6 degrees Fahrenheit\n",
    "import statsmodels.stats.weightstats as ws\n",
    "test_stat, pvalue = ws.ztest(temp, value=98.6)\n",
    "print 'z-statistic: %.4f with p-value: %.9f' % (test_stat, pvalue)"
   ]
  },
  {
   "cell_type": "markdown",
   "metadata": {},
   "source": [
    "#### We see that out sample mean body temperature is over 5 sample standard deviations away from 98.6 degrees Fahrenheit, and that the associated p-value is extremely small, giving strong evidence that we can reject the null hypothesis"
   ]
  },
  {
   "cell_type": "code",
   "execution_count": 47,
   "metadata": {
    "collapsed": false
   },
   "outputs": [
    {
     "name": "stdout",
     "output_type": "stream",
     "text": [
      "2.4106320415561276e-07\n",
      "t-statistic: -5.4548 with p-value: 0.000000241\n"
     ]
    }
   ],
   "source": [
    "# Now let's compute the t statistic and an associated p-value assuming the null hypothesis\n",
    "import scipy.stats as st\n",
    "test_stat, pvalue = stats.ttest_1samp(temp, popmean=98.6)\n",
    "print 't-statistic: %.4f with p-value: %.9f' % (test_stat, pvalue)"
   ]
  },
  {
   "cell_type": "markdown",
   "metadata": {},
   "source": [
    "#### Although we see the same value of the test statistic (they are computed in the same way), we get a larger p-value using a t-test versus a z-test. This is because the t-distribution has heavier tales, leading to higher p-values at high standard deviations, which is what we see here"
   ]
  },
  {
   "cell_type": "markdown",
   "metadata": {},
   "source": [
    "# Question 4"
   ]
  },
  {
   "cell_type": "code",
   "execution_count": 21,
   "metadata": {
    "collapsed": false
   },
   "outputs": [
    {
     "name": "stdout",
     "output_type": "stream",
     "text": [
      "z-statistic: -0.3926 with p-value: 0.694638621\n",
      "t-statistic: -0.3926 with p-value: 0.703773971\n"
     ]
    }
   ],
   "source": [
    "# Let's draw ten samples and redo our tests\n",
    "ten_samps = np.random.choice(temp, size=10)\n",
    "\n",
    "test_stat, pvalue = ws.ztest(ten_samps, value=98.6)\n",
    "print 'z-statistic: %.4f with p-value: %.9f' % (test_stat, pvalue)\n",
    "\n",
    "test_stat, pvalue = stats.ttest_1samp(ten_samps, popmean=98.6)\n",
    "print 't-statistic: %.4f with p-value: %.9f' % (test_stat, pvalue)"
   ]
  },
  {
   "cell_type": "markdown",
   "metadata": {},
   "source": [
    "#### Since our sample is < 30 and we do not know our population standard deviation, a t-test is more appropriate. We see that the p-values have increased significantly and we can no longer reject the null hypothesis. Once again, the p-value is higher for the t-statistic."
   ]
  },
  {
   "cell_type": "markdown",
   "metadata": {},
   "source": [
    "# Question 5"
   ]
  },
  {
   "cell_type": "code",
   "execution_count": 30,
   "metadata": {
    "collapsed": false
   },
   "outputs": [
    {
     "name": "stdout",
     "output_type": "stream",
     "text": [
      "95 percent confidence interval between 98.123 and 98.375\n",
      "Margin of error: 0.00040\n"
     ]
    }
   ],
   "source": [
    "# Bootstrap approach with 95% confidence interval\n",
    "bs_data = bs_test(temp, np.mean, 100000)\n",
    "ci = np.percentile(bs_data, [2.5, 97.5])\n",
    "# Our confidence interval is 95%, which gives a z-value of 1.96\n",
    "margin = 1.96 * (np.std(bs_data) / np.sqrt(len(bs_data)))\n",
    "print '95 percent confidence interval between %.3f and %.3f' % (ci[0], ci[1])\n",
    "print 'Margin of error: %.5f' % margin"
   ]
  },
  {
   "cell_type": "code",
   "execution_count": 32,
   "metadata": {
    "collapsed": false
   },
   "outputs": [
    {
     "name": "stdout",
     "output_type": "stream",
     "text": [
      "95 percent confidence interval between 98.122 and 98.376\n"
     ]
    }
   ],
   "source": [
    "# Frequentist approach\n",
    "ci = st.t.interval(0.95, len(temp)-1, loc=np.mean(temp), scale=st.sem(temp))\n",
    "print '95 percent confidence interval between %.3f and %.3f' % (ci[0], ci[1])"
   ]
  },
  {
   "cell_type": "markdown",
   "metadata": {},
   "source": [
    "#### Thus, abnormal body temperatures according to this sample data set are below 98.12 and above 98.37 degrees Fahrenheit"
   ]
  },
  {
   "cell_type": "markdown",
   "metadata": {},
   "source": [
    "# Question 6"
   ]
  },
  {
   "cell_type": "code",
   "execution_count": 9,
   "metadata": {
    "collapsed": false
   },
   "outputs": [
    {
     "name": "stderr",
     "output_type": "stream",
     "text": [
      "/Users/rvg/miniconda2/envs/tutorial/lib/python2.7/site-packages/matplotlib/__init__.py:892: UserWarning: axes.color_cycle is deprecated and replaced with axes.prop_cycle; please use the latter.\n",
      "  warnings.warn(self.msg_depr % (key, alt_key))\n",
      "/Users/rvg/miniconda2/envs/tutorial/lib/python2.7/site-packages/matplotlib/__init__.py:892: UserWarning: axes.color_cycle is deprecated and replaced with axes.prop_cycle; please use the latter.\n",
      "  warnings.warn(self.msg_depr % (key, alt_key))\n",
      "/Users/rvg/miniconda2/envs/tutorial/lib/python2.7/site-packages/scipy/stats/stats.py:1565: FutureWarning: Using a non-tuple sequence for multidimensional indexing is deprecated; use `arr[tuple(seq)]` instead of `arr[seq]`. In the future this will be interpreted as an array index, `arr[np.array(seq)]`, which will result either in an error or a different result.\n",
      "  return np.add.reduce(sorted[indexer] * weights, axis=axis) / sumval\n"
     ]
    },
    {
     "data": {
      "text/plain": [
       "<matplotlib.axes._subplots.AxesSubplot at 0x113d01110>"
      ]
     },
     "execution_count": 9,
     "metadata": {},
     "output_type": "execute_result"
    },
    {
     "data": {
      "image/png": "[encoded data removed]",
      "text/plain": [
       "<matplotlib.figure.Figure at 0x113a9bd50>"
      ]
     },
     "metadata": {},
     "output_type": "display_data"
    }
   ],
   "source": [
    "# First let's do some EDA\n",
    "sns.violinplot(x='gender', y='temperature', data=df)"
   ]
  },
  {
   "cell_type": "code",
   "execution_count": 10,
   "metadata": {
    "collapsed": false
   },
   "outputs": [
    {
     "name": "stdout",
     "output_type": "stream",
     "text": [
      "98.10461538461537 98.39384615384614\n"
     ]
    }
   ],
   "source": [
    "male = df[df['gender'] == 'M']['temperature']\n",
    "female = df[df['gender'] == 'F']['temperature']\n",
    "print np.mean(male), np.mean(female)"
   ]
  },
  {
   "cell_type": "markdown",
   "metadata": {},
   "source": [
    "#### Although there's a larger spread in female body temperatures, the means look rather similar, and indeed they're only ~.3 degrees difference between the two populations"
   ]
  },
  {
   "cell_type": "markdown",
   "metadata": {},
   "source": [
    "#### Since we are trying to see if there is a difference between two sample populations,  our sample sizes are both >30 and we don't know the population standard deviation, we can use a two-sample bootstrapping test to test if there is a significant difference.\n",
    "\n",
    "#### Here our null hypothesis is that there is no difference between the mean temperature between males and females. Let's shift both data sets to the same mean, bootstrap the results, calculate a simulated difference between the means of the populations and see the fraction of times that simulated difference is as extreme as the observed difference, i.e., calculate the p-value."
   ]
  },
  {
   "cell_type": "code",
   "execution_count": 11,
   "metadata": {
    "collapsed": false
   },
   "outputs": [
    {
     "name": "stdout",
     "output_type": "stream",
     "text": [
      "p-value = 0.01077\n"
     ]
    }
   ],
   "source": [
    "mean_temp = np.mean(df['temperature'])\n",
    "# shift both populations to the same mean\n",
    "m_temp_shift = male - np.mean(male) + mean_temp\n",
    "f_temp_shift = female - np.mean(female) + mean_temp\n",
    "# now let's simulate computing the mean for both of these mean-shifted samples 100,000 times\n",
    "bs_rep_m = bs_test(m_temp_shift, np.mean, 100000)\n",
    "bs_rep_f = bs_test(f_temp_shift, np.mean, 100000)\n",
    "# calculate the difference in the bootstrap replicant mean\n",
    "bs_difference = bs_rep_f - bs_rep_m\n",
    "# compute the actual observed difference\n",
    "obs_difference = np.mean(female) - np.mean(male)\n",
    "# let's see the fraction times our simulated mean differences are as extreme as the actual difference--compute the pvalue\n",
    "p_val = np.sum(bs_difference >= obs_difference) / float(len(bs_difference))\n",
    "print 'p-value = %.5f' % p_val"
   ]
  },
  {
   "cell_type": "markdown",
   "metadata": {},
   "source": [
    "#### We get a p-value of .01, indicating that we can reject the null hypothesis IF we set our alpha to above .01. Since this is a rather high alpha, it's not completely clear that there is a significant difference between male and female body temperatures."
   ]
  },
  {
   "cell_type": "markdown",
   "metadata": {},
   "source": [
    "## Conclusion:\n",
    "\n",
    "#### We show in this notebook that the mean normal body temperature of this data sample is inconsistent with the historical value of 98.6 degrees Fahrenheit through a combination of frequentist and bootstrap statistics. p-values less than 10^-7 provide strong evidence that we can reject the null hypothesis: that the mean normal body temperature is 98.6 degrees Fahrenheit\n",
    "\n",
    "#### Additionally, we show using bootstrap statistics that there is possibly a significant difference in the mean normal body temperature between males and females depending on your choice for alpha."
   ]
  }
 ],
 "metadata": {
  "kernelspec": {
   "display_name": "Python 2",
   "language": "python",
   "name": "python2"
  },
  "language_info": {
   "codemirror_mode": {
    "name": "ipython",
    "version": 2
   },
   "file_extension": ".py",
   "mimetype": "text/x-python",
   "name": "python",
   "nbconvert_exporter": "python",
   "pygments_lexer": "ipython2",
   "version": "2.7.11"
  }
 },
 "nbformat": 4,
 "nbformat_minor": 1
}
