{
 "cells": [
  {
   "cell_type": "markdown",
   "metadata": {},
   "source": [
    "## Modeling"
   ]
  },
  {
   "cell_type": "markdown",
   "metadata": {},
   "source": [
    "The basic procedure for modeling with electricity data is as follows:\n",
    "1. Convert time series into supervised learning problem\n",
    "2. Create same train-test split for all models\n",
    "3. Create model with default settings\n",
    "4. Scale all features using a min-max scaler\n",
    "5. Fit data with model\n",
    "6. Evaluate model by computing relevant metrics on test and training set, i.e., r^2 and RMSE\n",
    "7. Compare all models"
   ]
  },
  {
   "cell_type": "code",
   "execution_count": 1,
   "metadata": {
    "collapsed": false
   },
   "outputs": [
    {
     "name": "stderr",
     "output_type": "stream",
     "text": [
      "/Users/rvg/miniconda2/envs/tutorial/lib/python2.7/site-packages/matplotlib/__init__.py:872: UserWarning: axes.color_cycle is deprecated and replaced with axes.prop_cycle; please use the latter.\n",
      "  warnings.warn(self.msg_depr % (key, alt_key))\n"
     ]
    }
   ],
   "source": [
    "import pandas as pd\n",
    "import numpy as np\n",
    "import matplotlib.pyplot as plt\n",
    "import seaborn as sns\n",
    "import time\n",
    "import warnings\n",
    "warnings.filterwarnings('ignore')\n",
    "\n",
    "from sklearn.pipeline import Pipeline\n",
    "from sklearn.model_selection import train_test_split\n",
    "from sklearn.preprocessing import MinMaxScaler\n",
    "from sklearn.metrics import mean_squared_error\n",
    "\n",
    "from sklearn.linear_model import LinearRegression\n",
    "from sklearn.linear_model import ElasticNet\n",
    "from sklearn.tree import DecisionTreeRegressor\n",
    "from sklearn.neighbors import KNeighborsRegressor\n",
    "from sklearn.ensemble import RandomForestRegressor\n",
    "from sklearn.ensemble import GradientBoostingRegressor\n",
    "from sklearn.ensemble import BaggingRegressor\n",
    "from sklearn.ensemble import AdaBoostRegressor"
   ]
  },
  {
   "cell_type": "code",
   "execution_count": 2,
   "metadata": {
    "collapsed": true
   },
   "outputs": [],
   "source": [
    "def evaluate(model, X_test, y_test, X_train, y_train, m_name):\n",
    "    y_pred_test = model.predict(X_test)\n",
    "    y_pred_train = model.predict(X_train)\n",
    "\n",
    "    # Compute and print the metrics\n",
    "    r2_test = model.score(X_test, y_test)\n",
    "    rmse_test = np.sqrt(mean_squared_error(y_test, y_pred_test))\n",
    "    \n",
    "    r2_train = model.score(X_train, y_train)\n",
    "    rmse_train = np.sqrt(mean_squared_error(y_train, y_pred_train))\n",
    "    \n",
    "    print m_name\n",
    "    \n",
    "    print '---------------------'\n",
    "    print 'Train R^2: %.4f' % r2_train\n",
    "    print 'Train Root MSE: %.4f' % rmse_train\n",
    "\n",
    "    print '---------------------'\n",
    "    print 'Test R^2: %.4f' % r2_test\n",
    "    print 'Test Root MSE: %.4f' % rmse_test\n",
    "\n",
    "    return r2_test, rmse_test\n",
    "\n",
    "def series_to_supervised(data,  col_names, n_in=1, n_out=1, dropnan=True):\n",
    "    \"\"\"\n",
    "    Frame a time series as a supervised learning dataset.\n",
    "    Arguments:\n",
    "     data: Sequence of observations as a list or NumPy array.\n",
    "     n_in: Number of lag observations as input (X).\n",
    "     n_out: Number of observations as output (y).\n",
    "     dropnan: Boolean whether or not to drop rows with NaN values.\n",
    "    Returns:\n",
    "     Pandas DataFrame of series framed for supervised learning.\n",
    "    \"\"\"\n",
    "    n_vars = 1 if type(data) is list else data.shape[1]\n",
    "    df = pd.DataFrame(data)\n",
    "    cols, names = list(), list()\n",
    "    # input sequence (t-n, ... t-1)\n",
    "    for i in range(n_in, 0, -1):\n",
    "        cols.append(df.shift(i))\n",
    "        names += [('%s(t-%d)' % (col_names[j], i)) for j in range(n_vars)]\n",
    "    # forecast sequence (t, t+1, ... t+n)\n",
    "    for i in range(0, n_out):\n",
    "        cols.append(df.shift(-i))\n",
    "    if i == 0:\n",
    "        names += [('%s(t)' % (col_names[j])) for j in range(n_vars)]\n",
    "    else:\n",
    "        names += [('%s(t+%d)' % (col_names[j], i)) for j in range(n_vars)]\n",
    "    # put it all together\n",
    "    agg = pd.concat(cols, axis=1)\n",
    "    agg.columns = names\n",
    "    # drop rows with NaN values\n",
    "    if dropnan:\n",
    "        agg.dropna(inplace=True)\n",
    "    return agg"
   ]
  },
  {
   "cell_type": "code",
   "execution_count": 3,
   "metadata": {
    "collapsed": false
   },
   "outputs": [],
   "source": [
    "WORKING_DIR = '/Users/rvg/Documents/springboard_ds/springboard_portfolio/Electricity_Demand/'\n",
    "\n",
    "df = pd.read_pickle(WORKING_DIR + 'data/LA_df.pkl')\n",
    "\n",
    "#set the column we want to predict (demand) to the first columns for consistency\n",
    "cols = list(df.columns)\n",
    "cols.remove('demand')\n",
    "cols.insert(0,'demand')\n",
    "df = df[cols]\n",
    "\n",
    "values = df.values\n",
    "# ensure all data is float\n",
    "values = values.astype('float32')\n",
    "# frame as supervised learning\n",
    "reframed = series_to_supervised(values, df.columns, 1, 1)\n",
    "# drop columns we don't want to predict\n",
    "reframed.drop(reframed.columns[[18,19,20,21,22,23,24,25,26,27,28,29,30,31,32,33]], axis=1, inplace=True)\n",
    "\n",
    "values = reframed.values\n",
    "n_train_hours = 365 * 24\n",
    "train = values[:n_train_hours, :]\n",
    "test = values[n_train_hours:, :]\n",
    "# split into input and outputs\n",
    "X_train, y_train = train[:, :-1], train[:, -1]\n",
    "X_test, y_test = test[:, :-1], test[:, -1]\n",
    "\n",
    "r2 = []\n",
    "rmse = []\n",
    "name = []"
   ]
  },
  {
   "cell_type": "markdown",
   "metadata": {},
   "source": [
    "## Linear Regression"
   ]
  },
  {
   "cell_type": "code",
   "execution_count": 5,
   "metadata": {
    "collapsed": false
   },
   "outputs": [
    {
     "name": "stdout",
     "output_type": "stream",
     "text": [
      "Linear Regression\n",
      "---------------------\n",
      "Train R^2: 0.9612\n",
      "Train Root MSE: 151.0711\n",
      "---------------------\n",
      "Test R^2: 0.9630\n",
      "Test Root MSE: 152.7653\n"
     ]
    }
   ],
   "source": [
    "# Create the model pipeline\n",
    "steps = [('scaler', MinMaxScaler(feature_range=(0, 1))),\n",
    "         ('linearregression', LinearRegression())]\n",
    "\n",
    "pipeline = Pipeline(steps)\n",
    "\n",
    "# Fit to the training set\n",
    "pipeline.fit(X_train, y_train)\n",
    "\n",
    "# Evaluate model\n",
    "r2_score, rmse_score = evaluate(pipeline, X_test, y_test, X_train, y_train, 'Linear Regression')\n",
    "\n",
    "r2.append(r2_score)\n",
    "rmse.append(rmse_score)\n",
    "name.append('Linear Regression')"
   ]
  },
  {
   "cell_type": "markdown",
   "metadata": {},
   "source": [
    "## Decision Tree"
   ]
  },
  {
   "cell_type": "code",
   "execution_count": 6,
   "metadata": {
    "collapsed": false
   },
   "outputs": [
    {
     "name": "stdout",
     "output_type": "stream",
     "text": [
      "Decision Tree\n",
      "---------------------\n",
      "Train R^2: 1.0000\n",
      "Train Root MSE: 0.1587\n",
      "---------------------\n",
      "Test R^2: 0.9306\n",
      "Test Root MSE: 209.3434\n"
     ]
    }
   ],
   "source": [
    "# Create the model pipeline\n",
    "steps = [('scaler', MinMaxScaler(feature_range=(0, 1))),\n",
    "         ('elasticnet', DecisionTreeRegressor())]\n",
    "\n",
    "pipeline = Pipeline(steps)\n",
    "\n",
    "# Fit to the training set\n",
    "pipeline.fit(X_train, y_train)\n",
    "\n",
    "# Evaluate model\n",
    "r2_score, rmse_score = evaluate(pipeline, X_test, y_test, X_train, y_train, 'Decision Tree')\n",
    "\n",
    "r2.append(r2_score)\n",
    "rmse.append(rmse_score)\n",
    "name.append('Decision Tree')"
   ]
  },
  {
   "cell_type": "markdown",
   "metadata": {},
   "source": [
    "## k-NN"
   ]
  },
  {
   "cell_type": "markdown",
   "metadata": {},
   "source": [
    "Takes quite a long time to tune hyperparameters, so we just use default settings"
   ]
  },
  {
   "cell_type": "code",
   "execution_count": 7,
   "metadata": {
    "collapsed": false
   },
   "outputs": [
    {
     "name": "stdout",
     "output_type": "stream",
     "text": [
      "k-NN\n",
      "---------------------\n",
      "Train R^2: 0.9512\n",
      "Train Root MSE: 169.4384\n",
      "---------------------\n",
      "Test R^2: 0.9062\n",
      "Test Root MSE: 243.3669\n"
     ]
    }
   ],
   "source": [
    "# Create the model pipeline\n",
    "steps = [('scaler', MinMaxScaler(feature_range=(0, 1))),\n",
    "         ('k-NN', KNeighborsRegressor())]\n",
    "\n",
    "pipeline = Pipeline(steps)\n",
    "\n",
    "# Fit to the training set\n",
    "pipeline.fit(X_train, y_train)\n",
    "\n",
    "# Evaluate model\n",
    "r2_score, rmse_score = evaluate(pipeline, X_test, y_test, X_train, y_train, 'k-NN')\n",
    "\n",
    "r2.append(r2_score)\n",
    "rmse.append(rmse_score)\n",
    "name.append('k-NN')"
   ]
  },
  {
   "cell_type": "markdown",
   "metadata": {},
   "source": [
    "## Random Forest"
   ]
  },
  {
   "cell_type": "code",
   "execution_count": 8,
   "metadata": {
    "collapsed": false
   },
   "outputs": [
    {
     "name": "stdout",
     "output_type": "stream",
     "text": [
      "Random Forest\n",
      "---------------------\n",
      "Train R^2: 0.9932\n",
      "Train Root MSE: 63.1415\n",
      "---------------------\n",
      "Test R^2: 0.9628\n",
      "Test Root MSE: 153.2799\n"
     ]
    }
   ],
   "source": [
    "# Create the model pipeline\n",
    "steps = [('scaler', MinMaxScaler(feature_range=(0, 1))),\n",
    "         ('randomforest', RandomForestRegressor())]\n",
    "\n",
    "pipeline = Pipeline(steps)\n",
    "\n",
    "# Fit to the training set\n",
    "pipeline.fit(X_train, y_train)\n",
    "\n",
    "# Evaluate model\n",
    "r2_score, rmse_score = evaluate(pipeline, X_test, y_test, X_train, y_train, 'Random Forest')\n",
    "\n",
    "r2.append(r2_score)\n",
    "rmse.append(rmse_score)\n",
    "name.append('Random Forest')"
   ]
  },
  {
   "cell_type": "markdown",
   "metadata": {},
   "source": [
    "## Gradient Boosting"
   ]
  },
  {
   "cell_type": "code",
   "execution_count": 9,
   "metadata": {
    "collapsed": false
   },
   "outputs": [
    {
     "name": "stdout",
     "output_type": "stream",
     "text": [
      "Gradient Boosting\n",
      "---------------------\n",
      "Train R^2: 0.9692\n",
      "Train Root MSE: 134.5122\n",
      "---------------------\n",
      "Test R^2: 0.9665\n",
      "Test Root MSE: 145.4990\n"
     ]
    }
   ],
   "source": [
    "# Create the model pipeline\n",
    "steps = [('scaler', MinMaxScaler(feature_range=(0, 1))),\n",
    "         ('gradboost', GradientBoostingRegressor())]\n",
    "\n",
    "pipeline = Pipeline(steps)\n",
    "\n",
    "# Fit to the training set\n",
    "pipeline.fit(X_train, y_train)\n",
    "\n",
    "# Evaluate model\n",
    "r2_score, rmse_score = evaluate(pipeline, X_test, y_test, X_train, y_train, 'Gradient Boosting')\n",
    "\n",
    "r2.append(r2_score)\n",
    "rmse.append(rmse_score)\n",
    "name.append('Gradient Boosting')"
   ]
  },
  {
   "cell_type": "markdown",
   "metadata": {},
   "source": [
    "## Bagging"
   ]
  },
  {
   "cell_type": "code",
   "execution_count": 10,
   "metadata": {
    "collapsed": false
   },
   "outputs": [
    {
     "name": "stdout",
     "output_type": "stream",
     "text": [
      "Bagging\n",
      "---------------------\n",
      "Train R^2: 0.9933\n",
      "Train Root MSE: 62.9767\n",
      "---------------------\n",
      "Test R^2: 0.9626\n",
      "Test Root MSE: 153.6442\n"
     ]
    }
   ],
   "source": [
    "# Create the model pipeline\n",
    "steps = [('scaler', MinMaxScaler(feature_range=(0, 1))),\n",
    "         ('Bagging', BaggingRegressor())]\n",
    "\n",
    "pipeline = Pipeline(steps)\n",
    "\n",
    "# Fit to the training set\n",
    "pipeline.fit(X_train, y_train)\n",
    "\n",
    "# Evaluate model\n",
    "r2_score, rmse_score = evaluate(pipeline, X_test, y_test, X_train, y_train, 'Bagging')\n",
    "\n",
    "r2.append(r2_score)\n",
    "rmse.append(rmse_score)\n",
    "name.append('Bagging')"
   ]
  },
  {
   "cell_type": "markdown",
   "metadata": {},
   "source": [
    "## AdaBoost"
   ]
  },
  {
   "cell_type": "code",
   "execution_count": 11,
   "metadata": {
    "collapsed": false
   },
   "outputs": [
    {
     "name": "stdout",
     "output_type": "stream",
     "text": [
      "AdaBoost\n",
      "---------------------\n",
      "Train R^2: 0.9472\n",
      "Train Root MSE: 176.1687\n",
      "---------------------\n",
      "Test R^2: 0.9494\n",
      "Test Root MSE: 178.8029\n"
     ]
    }
   ],
   "source": [
    "# Create the model pipeline\n",
    "steps = [('scaler', MinMaxScaler(feature_range=(0, 1))),\n",
    "         ('adaboost', AdaBoostRegressor())]\n",
    "\n",
    "pipeline = Pipeline(steps)\n",
    "\n",
    "# Fit to the training set\n",
    "pipeline.fit(X_train, y_train)\n",
    "\n",
    "# Evaluate model\n",
    "r2_score, rmse_score = evaluate(pipeline, X_test, y_test, X_train, y_train, 'AdaBoost')\n",
    "\n",
    "r2.append(r2_score)\n",
    "rmse.append(rmse_score)\n",
    "name.append('AdaBoost')"
   ]
  },
  {
   "cell_type": "markdown",
   "metadata": {},
   "source": [
    "## Results"
   ]
  },
  {
   "cell_type": "code",
   "execution_count": 12,
   "metadata": {
    "collapsed": false
   },
   "outputs": [
    {
     "name": "stdout",
     "output_type": "stream",
     "text": [
      "               Model        RMSE       R^2\n",
      "5  Gradient Boosting  145.499018  0.966477\n",
      "1  Linear Regression  152.765320  0.963045\n",
      "4      Random Forest  153.279921  0.962796\n",
      "6            Bagging  153.644183  0.962619\n",
      "7           AdaBoost  178.802853  0.949375\n",
      "0      Decision Tree  208.619652  0.931082\n",
      "2      Decision Tree  209.343446  0.930603\n",
      "3               k-NN  243.366898  0.906213\n"
     ]
    }
   ],
   "source": [
    "la_results = pd.DataFrame({'Model': name, 'R^2': r2, 'RMSE': rmse})\n",
    "print(la_results.sort_values(by='R^2', ascending=False))"
   ]
  }
 ],
 "metadata": {
  "kernelspec": {
   "display_name": "Python 2",
   "language": "python",
   "name": "python2"
  },
  "language_info": {
   "codemirror_mode": {
    "name": "ipython",
    "version": 2
   },
   "file_extension": ".py",
   "mimetype": "text/x-python",
   "name": "python",
   "nbconvert_exporter": "python",
   "pygments_lexer": "ipython2",
   "version": "2.7.11"
  }
 },
 "nbformat": 4,
 "nbformat_minor": 0
}
